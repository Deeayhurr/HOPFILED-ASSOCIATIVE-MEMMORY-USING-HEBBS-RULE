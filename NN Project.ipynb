{
 "cells": [
  {
   "cell_type": "code",
   "execution_count": 18,
   "metadata": {
    "scrolled": true
   },
   "outputs": [
    {
     "name": "stdout",
     "output_type": "stream",
     "text": [
      "The input vector: [-1  1  1 -1] resulted in [ 1  1  1 -1], iterating again\n",
      "The input vector : [-1  1  1 -1] keeps converging to [ 1  1  1 -1] therefore it is not stable\n",
      "The input vector: [ 1  1 -1 -1] resulted in [ 1  1  1 -1], iterating again\n",
      "The input vector : [ 1  1 -1 -1] keeps converging to [ 1  1  1 -1] therefore it is not stable\n",
      "The input vector : [-1 -1 -1  1] is stable and it converges to itself: [-1 -1 -1  1]\n"
     ]
    }
   ],
   "source": [
    "import numpy as np\n",
    "\n",
    "vector_list = np.array([[0,1,1,0],[1,1,0,0],[0,0,0,1]])\n",
    "\n",
    "vector_size = vector_list.shape[1]\n",
    "vector_count = vector_list.shape[0]\n",
    "\n",
    "def get_bipolar_vectors(vector_list):\n",
    "    \"\"\" This function returns a bipolar vector \"\"\"\n",
    "    #bipolarize = lambda x : -1 if x < 1 else 1\n",
    "    #vectorizer = np.vectorize(bipolarize)\n",
    "    vector_list[vector_list < 1] = -1\n",
    "    #return vectorizer(vector_list)\n",
    "    return vector_list\n",
    "\n",
    "def sign_function(vectors):\n",
    "    vectors[vectors < 0] = -1\n",
    "    vectors[vectors >= 0] = 1\n",
    "    return vectors\n",
    "    \n",
    "   \n",
    "    \n",
    "def get_ham_matrix(vector_list):\n",
    "    \"\"\" This function returns the HAM Matrix \"\"\"\n",
    "    zero_ham_matrix = np.zeros((vector_list.shape[1],vector_list.shape[1])) \n",
    "    for i in range(vector_list.shape[1]):\n",
    "        count=i+1\n",
    "        while count < vector_list.shape[1]:\n",
    "            multiplied_vectors = (bipolar_vectors[:,i])* bipolar_vectors[:,count]\n",
    "            multiplied_vector_sum = multiplied_vectors.sum()\n",
    "            zero_ham_matrix[i,count] = multiplied_vector_sum\n",
    "            count+=1\n",
    "    \n",
    "    for x in range(vector_list.shape[1]):\n",
    "        for y in range(vector_list.shape[1]):\n",
    "            if y == x :\n",
    "                zero_ham_matrix[x][y] = 0\n",
    "            else :\n",
    "                zero_ham_matrix[y][x] = zero_ham_matrix[x][y]            \n",
    "    return zero_ham_matrix\n",
    "\n",
    "\n",
    "\n",
    "def get_vector_stability(vector,zero_ham_matrix):\n",
    "    \"\"\" This function returns the stability of the vector\"\"\"\n",
    "    \n",
    "    vector_ham_multiplication = zero_ham_matrix.dot(vector)\n",
    "        \n",
    "    signed_vector = sign_function(vector_ham_multiplication).astype(int)\n",
    "    return signed_vector\n",
    "\n",
    "\n",
    "def check_vector_stability(vector_list,zero_ham_matrix):\n",
    "    \"\"\" This function returns the stability of the vectors in the vector list \n",
    "    by using the get_vector_stability function \"\"\"\n",
    "    \n",
    "    final_outputs = []\n",
    "    \n",
    "    for index in range(vector_list.shape[0]):\n",
    "        \n",
    "        output_vector=[]\n",
    "        result = get_vector_stability(vector_list[index],zero_ham_matrix)\n",
    "        output_vector.append(result)\n",
    "        if np.array_equal(result, vector_list[index]):\n",
    "            \n",
    "            print(f\"The input vector : {vector_list[index]} is stable and it converges to itself: {result}\")\n",
    "        else:\n",
    "            \n",
    "            while not np.array_equal(result, vector_list[index]):\n",
    "                print(f\"The input vector: {vector_list[index]} resulted in {result}, iterating again\")\n",
    "                new_vector = get_vector_stability(result,zero_ham_matrix)\n",
    "                if all(item in new_vector for item in output_vector):\n",
    "                    print(f\"The input vector : {vector_list[index]} keeps converging to {new_vector} therefore it is not stable\")\n",
    "                    break\n",
    "                else:\n",
    "                    output_vector.append(new_vector)\n",
    "                    break\n",
    "        \n",
    "        \n",
    "       \n",
    "       \n",
    "    \n",
    "    \n",
    "bipolar_vectors= get_bipolar_vectors(vector_list)\n",
    "ham_matrix= get_ham_matrix(bipolar_vectors)\n",
    "\n",
    "check_vector_stability(bipolar_vectors,ham_matrix)\n"
   ]
  },
  {
   "cell_type": "code",
   "execution_count": null,
   "metadata": {},
   "outputs": [],
   "source": []
  },
  {
   "cell_type": "code",
   "execution_count": null,
   "metadata": {},
   "outputs": [],
   "source": [
    "\n"
   ]
  },
  {
   "cell_type": "code",
   "execution_count": null,
   "metadata": {},
   "outputs": [],
   "source": []
  }
 ],
 "metadata": {
  "kernelspec": {
   "display_name": "Python 3 (ipykernel)",
   "language": "python",
   "name": "python3"
  },
  "language_info": {
   "codemirror_mode": {
    "name": "ipython",
    "version": 3
   },
   "file_extension": ".py",
   "mimetype": "text/x-python",
   "name": "python",
   "nbconvert_exporter": "python",
   "pygments_lexer": "ipython3",
   "version": "3.8.2"
  }
 },
 "nbformat": 4,
 "nbformat_minor": 4
}
